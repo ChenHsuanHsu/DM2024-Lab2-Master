{
 "cells": [
  {
   "cell_type": "markdown",
   "metadata": {},
   "source": [
    "# check if the library is exist under using kernel"
   ]
  },
  {
   "cell_type": "code",
   "execution_count": 1,
   "metadata": {},
   "outputs": [
    {
     "name": "stdout",
     "output_type": "stream",
     "text": [
      "Requirement already satisfied: scikit-learn in /Users/chenhsuan/DM/lib/python3.9/site-packages (1.5.2)\n",
      "Requirement already satisfied: pandas in /Users/chenhsuan/DM/lib/python3.9/site-packages (2.2.3)\n",
      "Requirement already satisfied: numpy in /Users/chenhsuan/DM/lib/python3.9/site-packages (1.26.4)\n",
      "Requirement already satisfied: matplotlib in /Users/chenhsuan/DM/lib/python3.9/site-packages (3.9.2)\n",
      "Requirement already satisfied: plotly in /Users/chenhsuan/DM/lib/python3.9/site-packages (5.24.1)\n",
      "Requirement already satisfied: seaborn in /Users/chenhsuan/DM/lib/python3.9/site-packages (0.13.2)\n",
      "Requirement already satisfied: nltk in /Users/chenhsuan/DM/lib/python3.9/site-packages (3.9.1)\n",
      "Requirement already satisfied: umap-learn in /Users/chenhsuan/DM/lib/python3.9/site-packages (0.5.7)\n",
      "Requirement already satisfied: beautifulsoup4 in /Users/chenhsuan/DM/lib/python3.9/site-packages (4.12.3)\n",
      "Requirement already satisfied: chromadb in /Users/chenhsuan/DM/lib/python3.9/site-packages (0.5.18)\n",
      "Requirement already satisfied: gradio in /Users/chenhsuan/DM/lib/python3.9/site-packages (4.44.1)\n",
      "Requirement already satisfied: gensim in /Users/chenhsuan/DM/lib/python3.9/site-packages (4.3.3)\n",
      "Requirement already satisfied: tensorflow in /Users/chenhsuan/DM/lib/python3.9/site-packages (2.16.2)\n",
      "Requirement already satisfied: tensorflow-hub in /Users/chenhsuan/DM/lib/python3.9/site-packages (0.16.1)\n",
      "Requirement already satisfied: keras in /Users/chenhsuan/DM/lib/python3.9/site-packages (3.6.0)\n",
      "Requirement already satisfied: ollama in /Users/chenhsuan/DM/lib/python3.9/site-packages (0.3.3)\n",
      "Requirement already satisfied: langchain in /Users/chenhsuan/DM/lib/python3.9/site-packages (0.3.7)\n",
      "Requirement already satisfied: langchain_community in /Users/chenhsuan/DM/lib/python3.9/site-packages (0.3.5)\n",
      "Requirement already satisfied: langchain_core in /Users/chenhsuan/DM/lib/python3.9/site-packages (0.3.15)\n",
      "Requirement already satisfied: scipy>=1.6.0 in /Users/chenhsuan/DM/lib/python3.9/site-packages (from scikit-learn) (1.13.1)\n",
      "Requirement already satisfied: joblib>=1.2.0 in /Users/chenhsuan/DM/lib/python3.9/site-packages (from scikit-learn) (1.4.2)\n",
      "Requirement already satisfied: threadpoolctl>=3.1.0 in /Users/chenhsuan/DM/lib/python3.9/site-packages (from scikit-learn) (3.5.0)\n",
      "Requirement already satisfied: python-dateutil>=2.8.2 in /Users/chenhsuan/DM/lib/python3.9/site-packages (from pandas) (2.9.0.post0)\n",
      "Requirement already satisfied: pytz>=2020.1 in /Users/chenhsuan/DM/lib/python3.9/site-packages (from pandas) (2024.2)\n",
      "Requirement already satisfied: tzdata>=2022.7 in /Users/chenhsuan/DM/lib/python3.9/site-packages (from pandas) (2024.2)\n",
      "Requirement already satisfied: contourpy>=1.0.1 in /Users/chenhsuan/DM/lib/python3.9/site-packages (from matplotlib) (1.3.0)\n",
      "Requirement already satisfied: cycler>=0.10 in /Users/chenhsuan/DM/lib/python3.9/site-packages (from matplotlib) (0.12.1)\n",
      "Requirement already satisfied: fonttools>=4.22.0 in /Users/chenhsuan/DM/lib/python3.9/site-packages (from matplotlib) (4.54.1)\n",
      "Requirement already satisfied: kiwisolver>=1.3.1 in /Users/chenhsuan/DM/lib/python3.9/site-packages (from matplotlib) (1.4.7)\n",
      "Requirement already satisfied: packaging>=20.0 in /Users/chenhsuan/DM/lib/python3.9/site-packages (from matplotlib) (24.1)\n",
      "Requirement already satisfied: pillow>=8 in /Users/chenhsuan/DM/lib/python3.9/site-packages (from matplotlib) (10.4.0)\n",
      "Requirement already satisfied: pyparsing>=2.3.1 in /Users/chenhsuan/DM/lib/python3.9/site-packages (from matplotlib) (3.2.0)\n",
      "Requirement already satisfied: importlib-resources>=3.2.0 in /Users/chenhsuan/DM/lib/python3.9/site-packages (from matplotlib) (6.4.5)\n",
      "Requirement already satisfied: tenacity>=6.2.0 in /Users/chenhsuan/DM/lib/python3.9/site-packages (from plotly) (9.0.0)\n",
      "Requirement already satisfied: click in /Users/chenhsuan/DM/lib/python3.9/site-packages (from nltk) (8.1.7)\n",
      "Requirement already satisfied: regex>=2021.8.3 in /Users/chenhsuan/DM/lib/python3.9/site-packages (from nltk) (2024.9.11)\n",
      "Requirement already satisfied: tqdm in /Users/chenhsuan/DM/lib/python3.9/site-packages (from nltk) (4.66.6)\n",
      "Requirement already satisfied: numba>=0.51.2 in /Users/chenhsuan/DM/lib/python3.9/site-packages (from umap-learn) (0.60.0)\n",
      "Requirement already satisfied: pynndescent>=0.5 in /Users/chenhsuan/DM/lib/python3.9/site-packages (from umap-learn) (0.5.13)\n",
      "Requirement already satisfied: soupsieve>1.2 in /Users/chenhsuan/DM/lib/python3.9/site-packages (from beautifulsoup4) (2.6)\n",
      "Requirement already satisfied: build>=1.0.3 in /Users/chenhsuan/DM/lib/python3.9/site-packages (from chromadb) (1.2.2.post1)\n",
      "Requirement already satisfied: pydantic>=1.9 in /Users/chenhsuan/DM/lib/python3.9/site-packages (from chromadb) (2.9.2)\n",
      "Requirement already satisfied: chroma-hnswlib==0.7.6 in /Users/chenhsuan/DM/lib/python3.9/site-packages (from chromadb) (0.7.6)\n",
      "Requirement already satisfied: fastapi>=0.95.2 in /Users/chenhsuan/DM/lib/python3.9/site-packages (from chromadb) (0.115.4)\n",
      "Requirement already satisfied: uvicorn>=0.18.3 in /Users/chenhsuan/DM/lib/python3.9/site-packages (from uvicorn[standard]>=0.18.3->chromadb) (0.32.0)\n",
      "Requirement already satisfied: posthog>=2.4.0 in /Users/chenhsuan/DM/lib/python3.9/site-packages (from chromadb) (3.7.0)\n",
      "Requirement already satisfied: typing-extensions>=4.5.0 in /Users/chenhsuan/DM/lib/python3.9/site-packages (from chromadb) (4.12.2)\n",
      "Requirement already satisfied: onnxruntime>=1.14.1 in /Users/chenhsuan/DM/lib/python3.9/site-packages (from chromadb) (1.19.2)\n",
      "Requirement already satisfied: opentelemetry-api>=1.2.0 in /Users/chenhsuan/DM/lib/python3.9/site-packages (from chromadb) (1.27.0)\n",
      "Requirement already satisfied: opentelemetry-exporter-otlp-proto-grpc>=1.2.0 in /Users/chenhsuan/DM/lib/python3.9/site-packages (from chromadb) (1.27.0)\n",
      "Requirement already satisfied: opentelemetry-instrumentation-fastapi>=0.41b0 in /Users/chenhsuan/DM/lib/python3.9/site-packages (from chromadb) (0.48b0)\n",
      "Requirement already satisfied: opentelemetry-sdk>=1.2.0 in /Users/chenhsuan/DM/lib/python3.9/site-packages (from chromadb) (1.27.0)\n",
      "Requirement already satisfied: tokenizers>=0.13.2 in /Users/chenhsuan/DM/lib/python3.9/site-packages (from chromadb) (0.20.3)\n",
      "Requirement already satisfied: pypika>=0.48.9 in /Users/chenhsuan/DM/lib/python3.9/site-packages (from chromadb) (0.48.9)\n",
      "Requirement already satisfied: overrides>=7.3.1 in /Users/chenhsuan/DM/lib/python3.9/site-packages (from chromadb) (7.7.0)\n",
      "Requirement already satisfied: grpcio>=1.58.0 in /Users/chenhsuan/DM/lib/python3.9/site-packages (from chromadb) (1.67.1)\n",
      "Requirement already satisfied: bcrypt>=4.0.1 in /Users/chenhsuan/DM/lib/python3.9/site-packages (from chromadb) (4.2.0)\n",
      "Requirement already satisfied: typer>=0.9.0 in /Users/chenhsuan/DM/lib/python3.9/site-packages (from chromadb) (0.12.5)\n",
      "Requirement already satisfied: kubernetes>=28.1.0 in /Users/chenhsuan/DM/lib/python3.9/site-packages (from chromadb) (31.0.0)\n",
      "Requirement already satisfied: PyYAML>=6.0.0 in /Users/chenhsuan/DM/lib/python3.9/site-packages (from chromadb) (6.0.2)\n",
      "Requirement already satisfied: mmh3>=4.0.1 in /Users/chenhsuan/DM/lib/python3.9/site-packages (from chromadb) (5.0.1)\n",
      "Requirement already satisfied: orjson>=3.9.12 in /Users/chenhsuan/DM/lib/python3.9/site-packages (from chromadb) (3.10.11)\n",
      "Requirement already satisfied: httpx>=0.27.0 in /Users/chenhsuan/DM/lib/python3.9/site-packages (from chromadb) (0.27.2)\n",
      "Requirement already satisfied: rich>=10.11.0 in /Users/chenhsuan/DM/lib/python3.9/site-packages (from chromadb) (13.9.4)\n",
      "Requirement already satisfied: aiofiles<24.0,>=22.0 in /Users/chenhsuan/DM/lib/python3.9/site-packages (from gradio) (23.2.1)\n",
      "Requirement already satisfied: anyio<5.0,>=3.0 in /Users/chenhsuan/DM/lib/python3.9/site-packages (from gradio) (4.6.2.post1)\n",
      "Requirement already satisfied: ffmpy in /Users/chenhsuan/DM/lib/python3.9/site-packages (from gradio) (0.4.0)\n",
      "Requirement already satisfied: gradio-client==1.3.0 in /Users/chenhsuan/DM/lib/python3.9/site-packages (from gradio) (1.3.0)\n",
      "Requirement already satisfied: huggingface-hub>=0.19.3 in /Users/chenhsuan/DM/lib/python3.9/site-packages (from gradio) (0.26.2)\n",
      "Requirement already satisfied: jinja2<4.0 in /Users/chenhsuan/DM/lib/python3.9/site-packages (from gradio) (3.1.4)\n",
      "Requirement already satisfied: markupsafe~=2.0 in /Users/chenhsuan/DM/lib/python3.9/site-packages (from gradio) (2.1.5)\n",
      "Requirement already satisfied: pydub in /Users/chenhsuan/DM/lib/python3.9/site-packages (from gradio) (0.25.1)\n",
      "Requirement already satisfied: python-multipart>=0.0.9 in /Users/chenhsuan/DM/lib/python3.9/site-packages (from gradio) (0.0.17)\n",
      "Requirement already satisfied: ruff>=0.2.2 in /Users/chenhsuan/DM/lib/python3.9/site-packages (from gradio) (0.7.2)\n",
      "Requirement already satisfied: semantic-version~=2.0 in /Users/chenhsuan/DM/lib/python3.9/site-packages (from gradio) (2.10.0)\n",
      "Requirement already satisfied: tomlkit==0.12.0 in /Users/chenhsuan/DM/lib/python3.9/site-packages (from gradio) (0.12.0)\n",
      "Requirement already satisfied: urllib3~=2.0 in /Users/chenhsuan/DM/lib/python3.9/site-packages (from gradio) (2.2.3)\n",
      "Requirement already satisfied: fsspec in /Users/chenhsuan/DM/lib/python3.9/site-packages (from gradio-client==1.3.0->gradio) (2024.10.0)\n",
      "Requirement already satisfied: websockets<13.0,>=10.0 in /Users/chenhsuan/DM/lib/python3.9/site-packages (from gradio-client==1.3.0->gradio) (12.0)\n",
      "Requirement already satisfied: smart-open>=1.8.1 in /Users/chenhsuan/DM/lib/python3.9/site-packages (from gensim) (7.0.5)\n",
      "Requirement already satisfied: absl-py>=1.0.0 in /Users/chenhsuan/DM/lib/python3.9/site-packages (from tensorflow) (2.1.0)\n",
      "Requirement already satisfied: astunparse>=1.6.0 in /Users/chenhsuan/DM/lib/python3.9/site-packages (from tensorflow) (1.6.3)\n",
      "Requirement already satisfied: flatbuffers>=23.5.26 in /Users/chenhsuan/DM/lib/python3.9/site-packages (from tensorflow) (24.3.25)\n",
      "Requirement already satisfied: gast!=0.5.0,!=0.5.1,!=0.5.2,>=0.2.1 in /Users/chenhsuan/DM/lib/python3.9/site-packages (from tensorflow) (0.6.0)\n",
      "Requirement already satisfied: google-pasta>=0.1.1 in /Users/chenhsuan/DM/lib/python3.9/site-packages (from tensorflow) (0.2.0)\n",
      "Requirement already satisfied: h5py>=3.10.0 in /Users/chenhsuan/DM/lib/python3.9/site-packages (from tensorflow) (3.12.1)\n",
      "Requirement already satisfied: libclang>=13.0.0 in /Users/chenhsuan/DM/lib/python3.9/site-packages (from tensorflow) (18.1.1)\n",
      "Requirement already satisfied: ml-dtypes~=0.3.1 in /Users/chenhsuan/DM/lib/python3.9/site-packages (from tensorflow) (0.3.2)\n",
      "Requirement already satisfied: opt-einsum>=2.3.2 in /Users/chenhsuan/DM/lib/python3.9/site-packages (from tensorflow) (3.4.0)\n",
      "Requirement already satisfied: protobuf!=4.21.0,!=4.21.1,!=4.21.2,!=4.21.3,!=4.21.4,!=4.21.5,<5.0.0dev,>=3.20.3 in /Users/chenhsuan/DM/lib/python3.9/site-packages (from tensorflow) (4.25.5)\n",
      "Requirement already satisfied: requests<3,>=2.21.0 in /Users/chenhsuan/DM/lib/python3.9/site-packages (from tensorflow) (2.32.3)\n",
      "Requirement already satisfied: setuptools in /Users/chenhsuan/DM/lib/python3.9/site-packages (from tensorflow) (58.1.0)\n",
      "Requirement already satisfied: six>=1.12.0 in /Users/chenhsuan/DM/lib/python3.9/site-packages (from tensorflow) (1.16.0)\n",
      "Requirement already satisfied: termcolor>=1.1.0 in /Users/chenhsuan/DM/lib/python3.9/site-packages (from tensorflow) (2.5.0)\n",
      "Requirement already satisfied: wrapt>=1.11.0 in /Users/chenhsuan/DM/lib/python3.9/site-packages (from tensorflow) (1.16.0)\n",
      "Requirement already satisfied: tensorboard<2.17,>=2.16 in /Users/chenhsuan/DM/lib/python3.9/site-packages (from tensorflow) (2.16.2)\n",
      "Requirement already satisfied: tensorflow-io-gcs-filesystem>=0.23.1 in /Users/chenhsuan/DM/lib/python3.9/site-packages (from tensorflow) (0.37.1)\n",
      "Collecting tf-keras>=2.14.1 (from tensorflow-hub)\n",
      "  Using cached tf_keras-2.18.0-py3-none-any.whl.metadata (1.6 kB)\n",
      "Requirement already satisfied: namex in /Users/chenhsuan/DM/lib/python3.9/site-packages (from keras) (0.0.8)\n",
      "Requirement already satisfied: optree in /Users/chenhsuan/DM/lib/python3.9/site-packages (from keras) (0.13.0)\n",
      "Requirement already satisfied: SQLAlchemy<3,>=1.4 in /Users/chenhsuan/DM/lib/python3.9/site-packages (from langchain) (2.0.35)\n",
      "Requirement already satisfied: aiohttp<4.0.0,>=3.8.3 in /Users/chenhsuan/DM/lib/python3.9/site-packages (from langchain) (3.10.10)\n",
      "Requirement already satisfied: async-timeout<5.0.0,>=4.0.0 in /Users/chenhsuan/DM/lib/python3.9/site-packages (from langchain) (4.0.3)\n",
      "Requirement already satisfied: langchain-text-splitters<0.4.0,>=0.3.0 in /Users/chenhsuan/DM/lib/python3.9/site-packages (from langchain) (0.3.2)\n",
      "Requirement already satisfied: langsmith<0.2.0,>=0.1.17 in /Users/chenhsuan/DM/lib/python3.9/site-packages (from langchain) (0.1.140)\n",
      "Requirement already satisfied: dataclasses-json<0.7,>=0.5.7 in /Users/chenhsuan/DM/lib/python3.9/site-packages (from langchain_community) (0.6.7)\n",
      "Requirement already satisfied: httpx-sse<0.5.0,>=0.4.0 in /Users/chenhsuan/DM/lib/python3.9/site-packages (from langchain_community) (0.4.0)\n",
      "Requirement already satisfied: pydantic-settings<3.0.0,>=2.4.0 in /Users/chenhsuan/DM/lib/python3.9/site-packages (from langchain_community) (2.6.1)\n",
      "Requirement already satisfied: jsonpatch<2.0,>=1.33 in /Users/chenhsuan/DM/lib/python3.9/site-packages (from langchain_core) (1.33)\n",
      "Requirement already satisfied: aiohappyeyeballs>=2.3.0 in /Users/chenhsuan/DM/lib/python3.9/site-packages (from aiohttp<4.0.0,>=3.8.3->langchain) (2.4.3)\n",
      "Requirement already satisfied: aiosignal>=1.1.2 in /Users/chenhsuan/DM/lib/python3.9/site-packages (from aiohttp<4.0.0,>=3.8.3->langchain) (1.3.1)\n",
      "Requirement already satisfied: attrs>=17.3.0 in /Users/chenhsuan/DM/lib/python3.9/site-packages (from aiohttp<4.0.0,>=3.8.3->langchain) (24.2.0)\n",
      "Requirement already satisfied: frozenlist>=1.1.1 in /Users/chenhsuan/DM/lib/python3.9/site-packages (from aiohttp<4.0.0,>=3.8.3->langchain) (1.5.0)\n",
      "Requirement already satisfied: multidict<7.0,>=4.5 in /Users/chenhsuan/DM/lib/python3.9/site-packages (from aiohttp<4.0.0,>=3.8.3->langchain) (6.1.0)\n",
      "Requirement already satisfied: yarl<2.0,>=1.12.0 in /Users/chenhsuan/DM/lib/python3.9/site-packages (from aiohttp<4.0.0,>=3.8.3->langchain) (1.17.1)\n",
      "Requirement already satisfied: idna>=2.8 in /Users/chenhsuan/DM/lib/python3.9/site-packages (from anyio<5.0,>=3.0->gradio) (3.10)\n",
      "Requirement already satisfied: sniffio>=1.1 in /Users/chenhsuan/DM/lib/python3.9/site-packages (from anyio<5.0,>=3.0->gradio) (1.3.1)\n",
      "Requirement already satisfied: exceptiongroup>=1.0.2 in /Users/chenhsuan/DM/lib/python3.9/site-packages (from anyio<5.0,>=3.0->gradio) (1.2.2)\n",
      "Requirement already satisfied: wheel<1.0,>=0.23.0 in /Users/chenhsuan/DM/lib/python3.9/site-packages (from astunparse>=1.6.0->tensorflow) (0.44.0)\n",
      "Requirement already satisfied: pyproject_hooks in /Users/chenhsuan/DM/lib/python3.9/site-packages (from build>=1.0.3->chromadb) (1.2.0)\n",
      "Requirement already satisfied: importlib-metadata>=4.6 in /Users/chenhsuan/DM/lib/python3.9/site-packages (from build>=1.0.3->chromadb) (8.4.0)\n",
      "Requirement already satisfied: tomli>=1.1.0 in /Users/chenhsuan/DM/lib/python3.9/site-packages (from build>=1.0.3->chromadb) (2.0.2)\n",
      "Requirement already satisfied: marshmallow<4.0.0,>=3.18.0 in /Users/chenhsuan/DM/lib/python3.9/site-packages (from dataclasses-json<0.7,>=0.5.7->langchain_community) (3.23.1)\n",
      "Requirement already satisfied: typing-inspect<1,>=0.4.0 in /Users/chenhsuan/DM/lib/python3.9/site-packages (from dataclasses-json<0.7,>=0.5.7->langchain_community) (0.9.0)\n",
      "Requirement already satisfied: starlette<0.42.0,>=0.40.0 in /Users/chenhsuan/DM/lib/python3.9/site-packages (from fastapi>=0.95.2->chromadb) (0.41.2)\n",
      "Requirement already satisfied: certifi in /Users/chenhsuan/DM/lib/python3.9/site-packages (from httpx>=0.27.0->chromadb) (2024.8.30)\n",
      "Requirement already satisfied: httpcore==1.* in /Users/chenhsuan/DM/lib/python3.9/site-packages (from httpx>=0.27.0->chromadb) (1.0.6)\n",
      "Requirement already satisfied: h11<0.15,>=0.13 in /Users/chenhsuan/DM/lib/python3.9/site-packages (from httpcore==1.*->httpx>=0.27.0->chromadb) (0.14.0)\n",
      "Requirement already satisfied: filelock in /Users/chenhsuan/DM/lib/python3.9/site-packages (from huggingface-hub>=0.19.3->gradio) (3.16.1)\n",
      "Requirement already satisfied: zipp>=3.1.0 in /Users/chenhsuan/DM/lib/python3.9/site-packages (from importlib-resources>=3.2.0->matplotlib) (3.20.2)\n",
      "Requirement already satisfied: jsonpointer>=1.9 in /Users/chenhsuan/DM/lib/python3.9/site-packages (from jsonpatch<2.0,>=1.33->langchain_core) (3.0.0)\n",
      "Requirement already satisfied: google-auth>=1.0.1 in /Users/chenhsuan/DM/lib/python3.9/site-packages (from kubernetes>=28.1.0->chromadb) (2.35.0)\n",
      "Requirement already satisfied: websocket-client!=0.40.0,!=0.41.*,!=0.42.*,>=0.32.0 in /Users/chenhsuan/DM/lib/python3.9/site-packages (from kubernetes>=28.1.0->chromadb) (1.8.0)\n",
      "Requirement already satisfied: requests-oauthlib in /Users/chenhsuan/DM/lib/python3.9/site-packages (from kubernetes>=28.1.0->chromadb) (2.0.0)\n",
      "Requirement already satisfied: oauthlib>=3.2.2 in /Users/chenhsuan/DM/lib/python3.9/site-packages (from kubernetes>=28.1.0->chromadb) (3.2.2)\n",
      "Requirement already satisfied: durationpy>=0.7 in /Users/chenhsuan/DM/lib/python3.9/site-packages (from kubernetes>=28.1.0->chromadb) (0.9)\n",
      "Requirement already satisfied: requests-toolbelt<2.0.0,>=1.0.0 in /Users/chenhsuan/DM/lib/python3.9/site-packages (from langsmith<0.2.0,>=0.1.17->langchain) (1.0.0)\n",
      "Requirement already satisfied: llvmlite<0.44,>=0.43.0dev0 in /Users/chenhsuan/DM/lib/python3.9/site-packages (from numba>=0.51.2->umap-learn) (0.43.0)\n",
      "Requirement already satisfied: coloredlogs in /Users/chenhsuan/DM/lib/python3.9/site-packages (from onnxruntime>=1.14.1->chromadb) (15.0.1)\n",
      "Requirement already satisfied: sympy in /Users/chenhsuan/DM/lib/python3.9/site-packages (from onnxruntime>=1.14.1->chromadb) (1.13.3)\n",
      "Requirement already satisfied: deprecated>=1.2.6 in /Users/chenhsuan/DM/lib/python3.9/site-packages (from opentelemetry-api>=1.2.0->chromadb) (1.2.14)\n",
      "Requirement already satisfied: googleapis-common-protos~=1.52 in /Users/chenhsuan/DM/lib/python3.9/site-packages (from opentelemetry-exporter-otlp-proto-grpc>=1.2.0->chromadb) (1.65.0)\n",
      "Requirement already satisfied: opentelemetry-exporter-otlp-proto-common==1.27.0 in /Users/chenhsuan/DM/lib/python3.9/site-packages (from opentelemetry-exporter-otlp-proto-grpc>=1.2.0->chromadb) (1.27.0)\n",
      "Requirement already satisfied: opentelemetry-proto==1.27.0 in /Users/chenhsuan/DM/lib/python3.9/site-packages (from opentelemetry-exporter-otlp-proto-grpc>=1.2.0->chromadb) (1.27.0)\n",
      "Requirement already satisfied: opentelemetry-instrumentation-asgi==0.48b0 in /Users/chenhsuan/DM/lib/python3.9/site-packages (from opentelemetry-instrumentation-fastapi>=0.41b0->chromadb) (0.48b0)\n",
      "Requirement already satisfied: opentelemetry-instrumentation==0.48b0 in /Users/chenhsuan/DM/lib/python3.9/site-packages (from opentelemetry-instrumentation-fastapi>=0.41b0->chromadb) (0.48b0)\n",
      "Requirement already satisfied: opentelemetry-semantic-conventions==0.48b0 in /Users/chenhsuan/DM/lib/python3.9/site-packages (from opentelemetry-instrumentation-fastapi>=0.41b0->chromadb) (0.48b0)\n",
      "Requirement already satisfied: opentelemetry-util-http==0.48b0 in /Users/chenhsuan/DM/lib/python3.9/site-packages (from opentelemetry-instrumentation-fastapi>=0.41b0->chromadb) (0.48b0)\n",
      "Requirement already satisfied: asgiref~=3.0 in /Users/chenhsuan/DM/lib/python3.9/site-packages (from opentelemetry-instrumentation-asgi==0.48b0->opentelemetry-instrumentation-fastapi>=0.41b0->chromadb) (3.8.1)\n",
      "Requirement already satisfied: monotonic>=1.5 in /Users/chenhsuan/DM/lib/python3.9/site-packages (from posthog>=2.4.0->chromadb) (1.6)\n",
      "Requirement already satisfied: backoff>=1.10.0 in /Users/chenhsuan/DM/lib/python3.9/site-packages (from posthog>=2.4.0->chromadb) (2.2.1)\n",
      "Requirement already satisfied: annotated-types>=0.6.0 in /Users/chenhsuan/DM/lib/python3.9/site-packages (from pydantic>=1.9->chromadb) (0.7.0)\n",
      "Requirement already satisfied: pydantic-core==2.23.4 in /Users/chenhsuan/DM/lib/python3.9/site-packages (from pydantic>=1.9->chromadb) (2.23.4)\n",
      "Requirement already satisfied: python-dotenv>=0.21.0 in /Users/chenhsuan/DM/lib/python3.9/site-packages (from pydantic-settings<3.0.0,>=2.4.0->langchain_community) (1.0.1)\n",
      "Requirement already satisfied: charset-normalizer<4,>=2 in /Users/chenhsuan/DM/lib/python3.9/site-packages (from requests<3,>=2.21.0->tensorflow) (3.4.0)\n",
      "Requirement already satisfied: markdown-it-py>=2.2.0 in /Users/chenhsuan/DM/lib/python3.9/site-packages (from rich>=10.11.0->chromadb) (3.0.0)\n",
      "Requirement already satisfied: pygments<3.0.0,>=2.13.0 in /Users/chenhsuan/DM/lib/python3.9/site-packages (from rich>=10.11.0->chromadb) (2.18.0)\n",
      "Requirement already satisfied: greenlet!=0.4.17 in /Users/chenhsuan/DM/lib/python3.9/site-packages (from SQLAlchemy<3,>=1.4->langchain) (3.1.1)\n",
      "Requirement already satisfied: markdown>=2.6.8 in /Users/chenhsuan/DM/lib/python3.9/site-packages (from tensorboard<2.17,>=2.16->tensorflow) (3.7)\n",
      "Requirement already satisfied: tensorboard-data-server<0.8.0,>=0.7.0 in /Users/chenhsuan/DM/lib/python3.9/site-packages (from tensorboard<2.17,>=2.16->tensorflow) (0.7.2)\n",
      "Requirement already satisfied: werkzeug>=1.0.1 in /Users/chenhsuan/DM/lib/python3.9/site-packages (from tensorboard<2.17,>=2.16->tensorflow) (3.1.2)\n",
      "INFO: pip is looking at multiple versions of tf-keras to determine which version is compatible with other requirements. This could take a while.\n",
      "  Using cached tf_keras-2.17.0-py3-none-any.whl.metadata (1.6 kB)\n",
      "  Using cached tf_keras-2.16.0-py3-none-any.whl.metadata (1.6 kB)\n",
      "Requirement already satisfied: shellingham>=1.3.0 in /Users/chenhsuan/DM/lib/python3.9/site-packages (from typer>=0.9.0->chromadb) (1.5.4)\n",
      "Requirement already satisfied: httptools>=0.5.0 in /Users/chenhsuan/DM/lib/python3.9/site-packages (from uvicorn[standard]>=0.18.3->chromadb) (0.6.4)\n",
      "Requirement already satisfied: uvloop!=0.15.0,!=0.15.1,>=0.14.0 in /Users/chenhsuan/DM/lib/python3.9/site-packages (from uvicorn[standard]>=0.18.3->chromadb) (0.21.0)\n",
      "Requirement already satisfied: watchfiles>=0.13 in /Users/chenhsuan/DM/lib/python3.9/site-packages (from uvicorn[standard]>=0.18.3->chromadb) (0.24.0)\n",
      "Requirement already satisfied: cachetools<6.0,>=2.0.0 in /Users/chenhsuan/DM/lib/python3.9/site-packages (from google-auth>=1.0.1->kubernetes>=28.1.0->chromadb) (5.5.0)\n",
      "Requirement already satisfied: pyasn1-modules>=0.2.1 in /Users/chenhsuan/DM/lib/python3.9/site-packages (from google-auth>=1.0.1->kubernetes>=28.1.0->chromadb) (0.4.1)\n",
      "Requirement already satisfied: rsa<5,>=3.1.4 in /Users/chenhsuan/DM/lib/python3.9/site-packages (from google-auth>=1.0.1->kubernetes>=28.1.0->chromadb) (4.9)\n",
      "Requirement already satisfied: mdurl~=0.1 in /Users/chenhsuan/DM/lib/python3.9/site-packages (from markdown-it-py>=2.2.0->rich>=10.11.0->chromadb) (0.1.2)\n",
      "Requirement already satisfied: mypy-extensions>=0.3.0 in /Users/chenhsuan/DM/lib/python3.9/site-packages (from typing-inspect<1,>=0.4.0->dataclasses-json<0.7,>=0.5.7->langchain_community) (1.0.0)\n",
      "Requirement already satisfied: propcache>=0.2.0 in /Users/chenhsuan/DM/lib/python3.9/site-packages (from yarl<2.0,>=1.12.0->aiohttp<4.0.0,>=3.8.3->langchain) (0.2.0)\n",
      "Requirement already satisfied: humanfriendly>=9.1 in /Users/chenhsuan/DM/lib/python3.9/site-packages (from coloredlogs->onnxruntime>=1.14.1->chromadb) (10.0)\n",
      "Requirement already satisfied: mpmath<1.4,>=1.1.0 in /Users/chenhsuan/DM/lib/python3.9/site-packages (from sympy->onnxruntime>=1.14.1->chromadb) (1.3.0)\n",
      "Requirement already satisfied: pyasn1<0.7.0,>=0.4.6 in /Users/chenhsuan/DM/lib/python3.9/site-packages (from pyasn1-modules>=0.2.1->google-auth>=1.0.1->kubernetes>=28.1.0->chromadb) (0.6.1)\n",
      "Using cached tf_keras-2.16.0-py3-none-any.whl (1.7 MB)\n",
      "Installing collected packages: tf-keras\n",
      "Successfully installed tf-keras-2.16.0\n",
      "Note: you may need to restart the kernel to use updated packages.\n"
     ]
    }
   ],
   "source": [
    "%pip install scikit-learn pandas numpy matplotlib plotly seaborn nltk umap-learn beautifulsoup4 chromadb gradio gensim tensorflow tensorflow-hub keras ollama langchain langchain_community langchain_core"
   ]
  },
  {
   "cell_type": "markdown",
   "metadata": {},
   "source": [
    "recheck library use in Lab1"
   ]
  },
  {
   "cell_type": "code",
   "execution_count": null,
   "metadata": {},
   "outputs": [],
   "source": [
    "%pip install scikit-learn pandas numpy matplotlib plotly seaborn nltk umap-learn"
   ]
  },
  {
   "cell_type": "markdown",
   "metadata": {},
   "source": [
    "下載Lab1沒有載到的library"
   ]
  },
  {
   "cell_type": "code",
   "execution_count": null,
   "metadata": {},
   "outputs": [],
   "source": [
    "%pip install beautifulsoup4 chromadb gradio gensim tensorflow tensorflow-hub keras ollama langchain langchain_community langchain_core"
   ]
  },
  {
   "cell_type": "markdown",
   "metadata": {},
   "source": [
    "## fail to loading keras and tensorflow"
   ]
  },
  {
   "cell_type": "code",
   "execution_count": null,
   "metadata": {},
   "outputs": [],
   "source": [
    "import tensorflow as tf"
   ]
  },
  {
   "cell_type": "markdown",
   "metadata": {},
   "source": [
    "## fail to calling punkt to tokenize in nltk lib"
   ]
  },
  {
   "cell_type": "code",
   "execution_count": null,
   "metadata": {},
   "outputs": [],
   "source": [
    "import nltk\n",
    "print(nltk.data.path)\n",
    "nltk.data.path.append('/Users/chenhsuan/DM/share/nltk_data')\n",
    "# 確保 punkt 已安裝\n",
    "try:\n",
    "    nltk.word_tokenize(\"This is a test sentence.\")\n",
    "    print(\"punkt 語料庫已成功加載，可以使用 word_tokenize。\")\n",
    "except LookupError:\n",
    "    print(\"punkt 語料庫未找到，請下載語料庫。\")\n",
    "    "
   ]
  },
  {
   "cell_type": "markdown",
   "metadata": {},
   "source": [
    "## check if the file exist in Lab2-Master"
   ]
  },
  {
   "cell_type": "code",
   "execution_count": 1,
   "metadata": {},
   "outputs": [
    {
     "name": "stdout",
     "output_type": "stream",
     "text": [
      "文件已成功下載且位於正確位置。\n"
     ]
    }
   ],
   "source": [
    "# check the data already download and put it to correct path\n",
    "import os\n",
    "from gensim.models import KeyedVectors\n",
    "\n",
    "# 定義文件路徑\n",
    "file_path = \"GoogleNews/GoogleNews-vectors-negative300.bin.gz\"  # 替換為您的文件路徑\n",
    "\n",
    "# 檢查文件是否存在\n",
    "if os.path.exists(file_path):\n",
    "    print(\"文件已成功下載且位於正確位置。\")\n",
    "else:\n",
    "    print(\"文件不存在，請檢查文件名稱或路徑。\")\n",
    "\n"
   ]
  },
  {
   "cell_type": "code",
   "execution_count": 2,
   "metadata": {},
   "outputs": [
    {
     "name": "stdout",
     "output_type": "stream",
     "text": [
      "文件加載成功。\n",
      "可用內存： 1.0686683654785156 GB\n"
     ]
    }
   ],
   "source": [
    "# 嘗試加載文件\n",
    "try:\n",
    "    # 加載 Word2Vec 模型\n",
    "    model = KeyedVectors.load_word2vec_format(file_path, binary=True)\n",
    "    print(\"文件加載成功。\")\n",
    "except Exception as e:\n",
    "    print(\"加載文件時出錯:\", e)\n",
    "import psutil\n",
    "print(\"可用內存：\", psutil.virtual_memory().available / (1024 ** 3), \"GB\")"
   ]
  },
  {
   "cell_type": "markdown",
   "metadata": {},
   "source": [
    "### 其他參考資料\n",
    "\n",
    "**softmax regression**    \n",
    "https://www.researchgate.net/figure/Softmax-Regression-Network-The-output-of-a-neural-network-represents-the-probability-of_fig3_325194613\n",
    "https://www.youtube.com/watch?v=jQiGzIllLsk\n"
   ]
  },
  {
   "cell_type": "markdown",
   "metadata": {},
   "source": [
    "## change Image File"
   ]
  },
  {
   "cell_type": "code",
   "execution_count": 3,
   "metadata": {},
   "outputs": [
    {
     "ename": "ImportError",
     "evalue": "dlopen(/Users/chenhsuan/DM/lib/python3.9/site-packages/_libheif_cffi.abi3.so, 0x0002): symbol not found in flat namespace '_heif_check_filetype'",
     "output_type": "error",
     "traceback": [
      "\u001b[0;31m---------------------------------------------------------------------------\u001b[0m",
      "\u001b[0;31mImportError\u001b[0m                               Traceback (most recent call last)",
      "Cell \u001b[0;32mIn[3], line 2\u001b[0m\n\u001b[1;32m      1\u001b[0m \u001b[38;5;28;01mimport\u001b[39;00m \u001b[38;5;21;01mctypes\u001b[39;00m\n\u001b[0;32m----> 2\u001b[0m \u001b[38;5;28;01mimport\u001b[39;00m \u001b[38;5;21;01mpyheif\u001b[39;00m\n\u001b[1;32m      3\u001b[0m \u001b[38;5;28;01mfrom\u001b[39;00m \u001b[38;5;21;01mPIL\u001b[39;00m \u001b[38;5;28;01mimport\u001b[39;00m Image\n\u001b[1;32m      5\u001b[0m \u001b[38;5;66;03m# 加載 libheif 庫\u001b[39;00m\n",
      "File \u001b[0;32m~/DM/lib/python3.9/site-packages/pyheif/__init__.py:4\u001b[0m\n\u001b[1;32m      1\u001b[0m \u001b[38;5;28;01mimport\u001b[39;00m \u001b[38;5;21;01mbuiltins\u001b[39;00m\n\u001b[1;32m      2\u001b[0m \u001b[38;5;28;01mimport\u001b[39;00m \u001b[38;5;21;01mos\u001b[39;00m\n\u001b[0;32m----> 4\u001b[0m \u001b[38;5;28;01mimport\u001b[39;00m \u001b[38;5;21;01m_libheif_cffi\u001b[39;00m\n\u001b[1;32m      6\u001b[0m \u001b[38;5;28;01mfrom\u001b[39;00m \u001b[38;5;21;01m.\u001b[39;00m\u001b[38;5;21;01mconstants\u001b[39;00m \u001b[38;5;28;01mimport\u001b[39;00m \u001b[38;5;241m*\u001b[39m\n\u001b[1;32m      7\u001b[0m \u001b[38;5;28;01mfrom\u001b[39;00m \u001b[38;5;21;01m.\u001b[39;00m\u001b[38;5;21;01mreader\u001b[39;00m \u001b[38;5;28;01mimport\u001b[39;00m \u001b[38;5;241m*\u001b[39m\n",
      "\u001b[0;31mImportError\u001b[0m: dlopen(/Users/chenhsuan/DM/lib/python3.9/site-packages/_libheif_cffi.abi3.so, 0x0002): symbol not found in flat namespace '_heif_check_filetype'"
     ]
    }
   ],
   "source": [
    "import ctypes\n",
    "import pyheif\n",
    "from PIL import Image\n",
    "\n",
    "# 加載 libheif 庫\n",
    "ctypes.CDLL('/usr/local/lib/libheif.dylib')\n",
    "\n",
    "# 打開 HEIC 文件\n",
    "heic_file = pyheif.read(\"pics/IMG_7317.HEIC\")\n",
    "\n",
    "# 將 HEIC 內容轉換為 Pillow 的圖像對象\n",
    "image = Image.frombytes(\n",
    "    heic_file.mode,\n",
    "    heic_file.size,\n",
    "    heic_file.data,\n",
    "    \"raw\",\n",
    "    heic_file.mode,\n",
    "    heic_file.stride,\n",
    ")\n",
    "\n",
    "# 保存為 PNG 格式\n",
    "image.save(\"pics/IMG_7317.png\", \"PNG\")"
   ]
  }
 ],
 "metadata": {
  "kernelspec": {
   "display_name": "Python (DM)",
   "language": "python",
   "name": "datamining"
  },
  "language_info": {
   "codemirror_mode": {
    "name": "ipython",
    "version": 3
   },
   "file_extension": ".py",
   "mimetype": "text/x-python",
   "name": "python",
   "nbconvert_exporter": "python",
   "pygments_lexer": "ipython3",
   "version": "3.9.20"
  }
 },
 "nbformat": 4,
 "nbformat_minor": 2
}
